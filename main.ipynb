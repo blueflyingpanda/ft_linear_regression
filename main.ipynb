{
 "cells": [
  {
   "cell_type": "markdown",
   "source": [
    "Set theta0, theta1"
   ],
   "metadata": {
    "collapsed": false
   }
  },
  {
   "cell_type": "code",
   "execution_count": 15,
   "outputs": [],
   "source": [
    "t0 = 0.0\n",
    "t1 = 0.0\n",
    "learning_rate = 0.1\n",
    "mse = 0.0"
   ],
   "metadata": {
    "collapsed": false,
    "pycharm": {
     "name": "#%%\n"
    }
   }
  },
  {
   "cell_type": "markdown",
   "source": [
    "Read data from data.csv"
   ],
   "metadata": {
    "collapsed": false,
    "pycharm": {
     "name": "#%% md\n"
    }
   }
  },
  {
   "cell_type": "code",
   "execution_count": 9,
   "outputs": [
    {
     "name": "stdout",
     "output_type": "stream",
     "text": [
      "          km   price\n",
      "0   240000.0  3650.0\n",
      "1   139800.0  3800.0\n",
      "2   150500.0  4400.0\n",
      "3   185530.0  4450.0\n",
      "4   176000.0  5250.0\n",
      "5   114800.0  5350.0\n",
      "6   166800.0  5800.0\n",
      "7    89000.0  5990.0\n",
      "8   144500.0  5999.0\n",
      "9    84000.0  6200.0\n",
      "10   82029.0  6390.0\n",
      "11   63060.0  6390.0\n",
      "12   74000.0  6600.0\n",
      "13   97500.0  6800.0\n",
      "14   67000.0  6800.0\n",
      "15   76025.0  6900.0\n",
      "16   48235.0  6900.0\n",
      "17   93000.0  6990.0\n",
      "18   60949.0  7490.0\n",
      "19   65674.0  7555.0\n",
      "20   54000.0  7990.0\n",
      "21   68500.0  7990.0\n",
      "22   22899.0  7990.0\n",
      "23   61789.0  8290.0\n"
     ]
    }
   ],
   "source": [
    "import pandas as pd\n",
    "\n",
    "df = pd.read_csv('data.csv', dtype=float)\n",
    "m = len(df)\n",
    "print(df)"
   ],
   "metadata": {
    "collapsed": false,
    "pycharm": {
     "name": "#%%\n"
    }
   }
  },
  {
   "cell_type": "markdown",
   "source": [
    "Normalize data: Xnormalized = (X - Xmin)/(Xmax - Xmin)"
   ],
   "metadata": {
    "collapsed": false
   }
  },
  {
   "cell_type": "code",
   "execution_count": 10,
   "outputs": [
    {
     "name": "stdout",
     "output_type": "stream",
     "text": [
      "     km_norm  price_norm        km   price\n",
      "0   1.000000    0.000000  240000.0  3650.0\n",
      "1   0.538464    0.032328  139800.0  3800.0\n",
      "2   0.587749    0.161638  150500.0  4400.0\n",
      "3   0.749103    0.172414  185530.0  4450.0\n",
      "4   0.705206    0.344828  176000.0  5250.0\n",
      "5   0.423310    0.366379  114800.0  5350.0\n",
      "6   0.662830    0.463362  166800.0  5800.0\n",
      "7   0.304471    0.504310   89000.0  5990.0\n",
      "8   0.560113    0.506250  144500.0  5999.0\n",
      "9   0.281440    0.549569   84000.0  6200.0\n",
      "10  0.272362    0.590517   82029.0  6390.0\n",
      "11  0.184988    0.590517   63060.0  6390.0\n",
      "12  0.235379    0.635776   74000.0  6600.0\n",
      "13  0.343623    0.678879   97500.0  6800.0\n",
      "14  0.203136    0.678879   67000.0  6800.0\n",
      "15  0.244706    0.700431   76025.0  6900.0\n",
      "16  0.116701    0.700431   48235.0  6900.0\n",
      "17  0.322896    0.719828   93000.0  6990.0\n",
      "18  0.175264    0.827586   60949.0  7490.0\n",
      "19  0.197028    0.841595   65674.0  7555.0\n",
      "20  0.143256    0.935345   54000.0  7990.0\n",
      "21  0.210045    0.935345   68500.0  7990.0\n",
      "22  0.000000    0.935345   22899.0  7990.0\n",
      "23  0.179133    1.000000   61789.0  8290.0\n"
     ]
    }
   ],
   "source": [
    "min_mileage = min(df['km'])\n",
    "min_price = min(df['price'])\n",
    "max_mileage = max(df['km'])\n",
    "max_price = max(df['price'])\n",
    "if max_mileage == min_mileage or max_price == min_price:\n",
    "    raise ValueError(\"Can't make predictions on these values. Max price == min price or max mileage == min mileage\")\n",
    "df.insert(0,'km_norm', (df['km'] - min_mileage)/(max_mileage - min_mileage))\n",
    "df.insert(1,'price_norm', (df['price'] - min_price)/(max_price - min_price))\n",
    "\n",
    "print(df)"
   ],
   "metadata": {
    "collapsed": false,
    "pycharm": {
     "name": "#%%\n"
    }
   }
  },
  {
   "cell_type": "markdown",
   "source": [
    "Training: calculating theta0, theta1 and mse"
   ],
   "metadata": {
    "collapsed": false
   }
  },
  {
   "cell_type": "markdown",
   "source": [
    "mean squared error = sum of squares(observed values - predicted values) / number of datapoints"
   ],
   "metadata": {
    "collapsed": false
   }
  },
  {
   "cell_type": "code",
   "execution_count": 11,
   "outputs": [
    {
     "name": "stdout",
     "output_type": "stream",
     "text": [
      "theta0= 0.93841\n",
      "theta1= -1.00119\n",
      "epochs= 52\n"
     ]
    }
   ],
   "source": [
    "def mean_squared_error(observed_values, predicted_values, datapoints_amount):\n",
    "    ssum = 0\n",
    "    index = 0\n",
    "    while index < datapoints_amount:\n",
    "        ssum += (observed_values[index] - predicted_values[index])**2\n",
    "        index += 1\n",
    "    return ssum/datapoints_amount\n",
    "\n",
    "ep = 0\n",
    "# while ep < 3:\n",
    "while True:\n",
    "    ep += 1\n",
    "    for i, row in df.iterrows():\n",
    "        array = []\n",
    "        for n, r in df.iterrows():\n",
    "            array.insert(len(array), t0 + t1 * r['km_norm'] - r['price_norm'])\n",
    "        t0 -= learning_rate * sum(array)/m\n",
    "        t1 -= learning_rate * sum(array * df['km_norm'])/m\n",
    "    predicted_prices = t0 + t1 * df['km_norm']\n",
    "    prev_mse = mse\n",
    "    mse = mean_squared_error(df['price_norm'], predicted_prices, m)\n",
    "    if abs(mse - prev_mse) < 0.0000001:\n",
    "        break\n",
    "\n",
    "print(\"theta0=\", round(t0, 5))\n",
    "print(\"theta1=\", round(t1, 5))\n",
    "print(\"epochs=\", ep)"
   ],
   "metadata": {
    "collapsed": false,
    "pycharm": {
     "name": "#%%\n"
    }
   }
  },
  {
   "cell_type": "markdown",
   "source": [
    "Using trained model"
   ],
   "metadata": {
    "collapsed": false
   }
  },
  {
   "cell_type": "code",
   "execution_count": 16,
   "outputs": [
    {
     "name": "stdout",
     "output_type": "stream",
     "text": [
      "theta0= 0.0\n",
      "theta1= 0.0\n",
      "predicted price for 1234567.0 mileage 0\n"
     ]
    }
   ],
   "source": [
    "def predict(n_mileage):\n",
    "    norm_price = t0 + t1 * n_mileage\n",
    "    predicted_price = norm_price * (max_price - min_price) + min_price\n",
    "    return predicted_price\n",
    "\n",
    "mileage = input('Enter mileage: ')\n",
    "try:\n",
    "    mileage = float(mileage)\n",
    "    if mileage <= 0:\n",
    "        raise ValueError\n",
    "    norm_mileage = (mileage - min_mileage)/(max_mileage - min_mileage)\n",
    "    price = predict(norm_mileage)\n",
    "    print(\"theta0=\", round(t0, 5))\n",
    "    print(\"theta1=\", round(t1, 5))\n",
    "    if t0 == 0 and t1 == 0:\n",
    "        price = 0\n",
    "    print('predicted price for', mileage, 'mileage', round(price, 2))\n",
    "except:\n",
    "    print('not a positive number')"
   ],
   "metadata": {
    "collapsed": false,
    "pycharm": {
     "name": "#%%\n"
    }
   }
  },
  {
   "cell_type": "markdown",
   "source": [
    "BONUS: graph"
   ],
   "metadata": {
    "collapsed": false
   }
  },
  {
   "cell_type": "code",
   "execution_count": 13,
   "outputs": [
    {
     "data": {
      "text/plain": "<Figure size 432x288 with 1 Axes>",
      "image/png": "[encoded data removed]"
     },
     "metadata": {},
     "output_type": "display_data"
    }
   ],
   "source": [
    "import matplotlib.pyplot as plt\n",
    "plt.style.use('dark_background')\n",
    "plt.scatter(df['km'], df['price'], color='y', marker='o')\n",
    "plt.xlabel('km')\n",
    "plt.ylabel('price')\n",
    "plt.title('car price to mileage correlation')\n",
    "x_coordinates = (min_mileage, max_mileage)\n",
    "y_coordinates = (predict(0), predict(1))\n",
    "plt.plot(x_coordinates, y_coordinates, 'w')\n",
    "plt.plot(mileage, price, 'rs')\n",
    "plt.show()"
   ],
   "metadata": {
    "collapsed": false,
    "pycharm": {
     "name": "#%%\n"
    }
   }
  },
  {
   "cell_type": "markdown",
   "source": [
    "BONUS: precision of algorithm"
   ],
   "metadata": {
    "collapsed": false
   }
  },
  {
   "cell_type": "code",
   "execution_count": 14,
   "outputs": [
    {
     "name": "stdout",
     "output_type": "stream",
     "text": [
      "     km_norm  price_norm        km   price  pred-price  error%\n",
      "0   1.000000    0.000000  240000.0  3650.0     3358.73    7.98\n",
      "1   0.538464    0.032328  139800.0  3800.0     5502.80   30.94\n",
      "2   0.587749    0.161638  150500.0  4400.0     5273.84   16.57\n",
      "3   0.749103    0.172414  185530.0  4450.0     4524.27    1.64\n",
      "4   0.705206    0.344828  176000.0  5250.0     4728.20    9.94\n",
      "5   0.423310    0.366379  114800.0  5350.0     6037.75   11.39\n",
      "6   0.662830    0.463362  166800.0  5800.0     4925.06   15.09\n",
      "7   0.304471    0.504310   89000.0  5990.0     6589.82    9.10\n",
      "8   0.560113    0.506250  144500.0  5999.0     5402.23    9.95\n",
      "9   0.281440    0.549569   84000.0  6200.0     6696.81    7.42\n",
      "10  0.272362    0.590517   82029.0  6390.0     6738.98    5.18\n",
      "11  0.184988    0.590517   63060.0  6390.0     7144.88   10.57\n",
      "12  0.235379    0.635776   74000.0  6600.0     6910.79    4.50\n",
      "13  0.343623    0.678879   97500.0  6800.0     6407.94    5.77\n",
      "14  0.203136    0.678879   67000.0  6800.0     7060.57    3.69\n",
      "15  0.244706    0.700431   76025.0  6900.0     6867.46    0.47\n",
      "16  0.116701    0.700431   48235.0  6900.0     7462.11    7.53\n",
      "17  0.322896    0.719828   93000.0  6990.0     6504.23    6.95\n",
      "18  0.175264    0.827586   60949.0  7490.0     7190.05    4.00\n",
      "19  0.197028    0.841595   65674.0  7555.0     7088.95    6.17\n",
      "20  0.143256    0.935345   54000.0  7990.0     7338.75    8.15\n",
      "21  0.210045    0.935345   68500.0  7990.0     7028.48   12.03\n",
      "22  0.000000    0.935345   22899.0  7990.0     8004.24    0.18\n",
      "23  0.179133    1.000000   61789.0  8290.0     7172.08   13.49\n",
      "average error:  8.7 %\n"
     ]
    }
   ],
   "source": [
    "pred_prices = []\n",
    "for d, ro in df.iterrows():\n",
    "    mile = ro['km']\n",
    "    normalized_mileage = (mile - min_mileage)/(max_mileage - min_mileage)\n",
    "    pred_prices.insert(len(pred_prices), round(predict(normalized_mileage), 2))\n",
    "df['pred-price'] = pred_prices\n",
    "errors = []\n",
    "for x, rows in df.iterrows():\n",
    "    errors.insert(len(errors), round(abs(rows['pred-price'] - rows['price'])*100/max(rows['price'],rows['pred-price']) , 2))\n",
    "df['error%'] = errors\n",
    "av_er = 0\n",
    "for e in errors:\n",
    "    av_er += e\n",
    "av_er /= len(errors)\n",
    "print(df)\n",
    "print('average error: ', round(av_er, 2), '%')"
   ],
   "metadata": {
    "collapsed": false,
    "pycharm": {
     "name": "#%%\n"
    }
   }
  }
 ],
 "metadata": {
  "kernelspec": {
   "display_name": "Python 3",
   "language": "python",
   "name": "python3"
  },
  "language_info": {
   "codemirror_mode": {
    "name": "ipython",
    "version": 2
   },
   "file_extension": ".py",
   "mimetype": "text/x-python",
   "name": "python",
   "nbconvert_exporter": "python",
   "pygments_lexer": "ipython2",
   "version": "2.7.6"
  }
 },
 "nbformat": 4,
 "nbformat_minor": 0
}